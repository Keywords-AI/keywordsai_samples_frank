{
 "cells": [
  {
   "cell_type": "markdown",
   "metadata": {
    "vscode": {
     "languageId": "plaintext"
    }
   },
   "source": [
    "# 🔐 Google Authentication Setup\n",
    "\n",
    "**Purpose**: Get Google Calendar permissions and save tokens.\n",
    "\n",
    "**What this does**: Opens browser → Google login → Saves tokens to JSON file\n",
    "\n",
    "> **Note**: Calendar operations (read/create events) are in `google_calendar_operations.ipynb`\n",
    "\n",
    "## 📋 Prerequisites\n",
    "\n",
    "1. **Google Cloud Console** → Create project → Enable \"Calendar API\"\n",
    "2. **Create OAuth Credentials** → \"Desktop application\" → Copy client ID & secret\n",
    "3. **Add BOTH Redirect URIs** in Google Cloud Console:\n",
    "   - `http://localhost:3000/` ⚠️ **CRITICAL: Include the trailing slash!**\n",
    "   - `http://localhost:3000/auth/callback`\n",
    "4. **Create .env file** in this folder:\n",
    "   ```\n",
    "   GOOGLE_CLIENT_ID=your_client_id_here\n",
    "   GOOGLE_CLIENT_SECRET=your_client_secret_here\n",
    "   GOOGLE_REDIRECT_URI=http://localhost:3000/auth/callback\n",
    "   ```\n",
    "\n",
    "## 🔧 **IMPORTANT**: \n",
    "The `run_local_server()` method automatically uses `http://localhost:3000/` with a trailing slash!\n"
   ]
  },
  {
   "cell_type": "code",
   "execution_count": 1,
   "metadata": {},
   "outputs": [
    {
     "name": "stdout",
     "output_type": "stream",
     "text": [
      "Requirement already satisfied: google-auth in c:\\users\\csiha\\anaconda3\\lib\\site-packages (2.19.1)\n",
      "Requirement already satisfied: google-auth-oauthlib in c:\\users\\csiha\\anaconda3\\lib\\site-packages (1.0.0)\n",
      "Requirement already satisfied: python-dotenv in c:\\users\\csiha\\anaconda3\\lib\\site-packages (1.1.0)\n",
      "Requirement already satisfied: urllib3<2.0 in c:\\users\\csiha\\anaconda3\\lib\\site-packages (from google-auth) (1.26.14)\n",
      "Requirement already satisfied: six>=1.9.0 in c:\\users\\csiha\\anaconda3\\lib\\site-packages (from google-auth) (1.16.0)\n",
      "Requirement already satisfied: cachetools<6.0,>=2.0.0 in c:\\users\\csiha\\anaconda3\\lib\\site-packages (from google-auth) (5.3.1)\n",
      "Requirement already satisfied: rsa<5,>=3.1.4 in c:\\users\\csiha\\appdata\\roaming\\python\\python310\\site-packages (from google-auth) (4.7.2)\n",
      "Requirement already satisfied: pyasn1-modules>=0.2.1 in c:\\users\\csiha\\anaconda3\\lib\\site-packages (from google-auth) (0.2.8)\n",
      "Requirement already satisfied: requests-oauthlib>=0.7.0 in c:\\users\\csiha\\anaconda3\\lib\\site-packages (from google-auth-oauthlib) (1.3.1)\n",
      "Requirement already satisfied: pyasn1<0.5.0,>=0.4.6 in c:\\users\\csiha\\anaconda3\\lib\\site-packages (from pyasn1-modules>=0.2.1->google-auth) (0.4.8)\n",
      "Requirement already satisfied: requests>=2.0.0 in c:\\users\\csiha\\anaconda3\\lib\\site-packages (from requests-oauthlib>=0.7.0->google-auth-oauthlib) (2.32.3)\n",
      "Requirement already satisfied: oauthlib>=3.0.0 in c:\\users\\csiha\\anaconda3\\lib\\site-packages (from requests-oauthlib>=0.7.0->google-auth-oauthlib) (3.2.2)\n",
      "Requirement already satisfied: charset-normalizer<4,>=2 in c:\\users\\csiha\\anaconda3\\lib\\site-packages (from requests>=2.0.0->requests-oauthlib>=0.7.0->google-auth-oauthlib) (2.0.4)\n",
      "Requirement already satisfied: idna<4,>=2.5 in c:\\users\\csiha\\anaconda3\\lib\\site-packages (from requests>=2.0.0->requests-oauthlib>=0.7.0->google-auth-oauthlib) (3.4)\n",
      "Requirement already satisfied: certifi>=2017.4.17 in c:\\users\\csiha\\anaconda3\\lib\\site-packages (from requests>=2.0.0->requests-oauthlib>=0.7.0->google-auth-oauthlib) (2022.12.7)\n"
     ]
    }
   ],
   "source": [
    "# Install required packages\n",
    "!pip install google-auth google-auth-oauthlib python-dotenv\n"
   ]
  },
  {
   "cell_type": "code",
   "execution_count": 2,
   "metadata": {},
   "outputs": [
    {
     "name": "stdout",
     "output_type": "stream",
     "text": [
      "Credentials loaded from .env\n",
      "Using redirect URI: http://localhost:3000/auth/callback\n"
     ]
    }
   ],
   "source": [
    "import os\n",
    "from dotenv import load_dotenv\n",
    "from google_auth_oauthlib.flow import InstalledAppFlow\n",
    "\n",
    "# Load environment variables\n",
    "load_dotenv()\n",
    "\n",
    "# Configuration\n",
    "SCOPES = ['https://www.googleapis.com/auth/calendar']\n",
    "TOKEN_FILE = 'google_tokens.json'\n",
    "\n",
    "# Get credentials from .env\n",
    "CLIENT_ID = os.getenv('GOOGLE_CLIENT_ID')\n",
    "CLIENT_SECRET = os.getenv('GOOGLE_CLIENT_SECRET')\n",
    "REDIRECT_URI = os.getenv('GOOGLE_REDIRECT_URI')\n",
    "\n",
    "if CLIENT_ID and CLIENT_SECRET and REDIRECT_URI:\n",
    "    print(\"Credentials loaded from .env\")\n",
    "    print(f\"Using redirect URI: {REDIRECT_URI}\")\n",
    "else:\n",
    "    print(\"❌ Missing credentials in .env file!\")\n",
    "    print(\"Required: GOOGLE_CLIENT_ID, GOOGLE_CLIENT_SECRET, GOOGLE_REDIRECT_URI\")\n"
   ]
  },
  {
   "cell_type": "code",
   "execution_count": 3,
   "metadata": {},
   "outputs": [
    {
     "name": "stdout",
     "output_type": "stream",
     "text": [
      "🔍 Debugging redirect URI configuration...\n",
      "Your .env redirect URI: http://localhost:3000/auth/callback\n",
      "⚠️  run_local_server() will actually use: http://localhost:3000/\n",
      "🔧 Your Google Cloud Console MUST have BOTH:\n",
      "   ✅ http://localhost:3000/auth/callback\n",
      "   ❌ http://localhost:3000/ ← ADD THIS ONE!\n",
      "\n",
      "🌐 Opening browser for authentication...\n",
      "Please visit this URL to authorize this application: https://accounts.google.com/o/oauth2/auth?response_type=code&client_id=547915784535-fj5mm9eia5hidrk77e3eis3d0tpuh5j7.apps.googleusercontent.com&redirect_uri=http%3A%2F%2Flocalhost%3A3000%2F&scope=https%3A%2F%2Fwww.googleapis.com%2Fauth%2Fcalendar&state=v1RdgHyoBpM0OnkevYlG4L3Ns6YOfh&prompt=consent&access_type=offline\n",
      "✅ Success! Tokens saved to google_tokens.json\n"
     ]
    }
   ],
   "source": [
    "def authenticate():\n",
    "    \"\"\"Get Google Calendar permissions and save tokens\"\"\"\n",
    "    if not CLIENT_ID or not CLIENT_SECRET:\n",
    "        print(\"❌ Cannot authenticate - missing .env credentials\")\n",
    "        return None\n",
    "    \n",
    "    try:\n",
    "        print(\"🔍 Debugging redirect URI configuration...\")\n",
    "        print(f\"Your .env redirect URI: {REDIRECT_URI}\")\n",
    "        \n",
    "        # IMPORTANT: run_local_server() automatically adds trailing slash!\n",
    "        actual_redirect_uri = \"http://localhost:3000/\"\n",
    "        \n",
    "        print(f\"⚠️  run_local_server() will actually use: {actual_redirect_uri}\")\n",
    "        print(\"🔧 Your Google Cloud Console MUST have BOTH:\")\n",
    "        print(f\"   ✅ {REDIRECT_URI}\")\n",
    "        print(f\"   ❌ {actual_redirect_uri} ← ADD THIS ONE!\")\n",
    "        print()\n",
    "        \n",
    "        # Create OAuth flow with the correct redirect URI\n",
    "        client_config = {\n",
    "            \"installed\": {\n",
    "                \"client_id\": CLIENT_ID,\n",
    "                \"client_secret\": CLIENT_SECRET,\n",
    "                \"auth_uri\": \"https://accounts.google.com/o/oauth2/auth\",\n",
    "                \"token_uri\": \"https://oauth2.googleapis.com/token\",\n",
    "                \"redirect_uris\": [actual_redirect_uri]\n",
    "            }\n",
    "        }\n",
    "        \n",
    "        flow = InstalledAppFlow.from_client_config(client_config, scopes=SCOPES)\n",
    "        \n",
    "        print(\"🌐 Opening browser for authentication...\")\n",
    "        credentials = flow.run_local_server(port=3000, prompt='consent')\n",
    "        \n",
    "        # Save tokens\n",
    "        with open(TOKEN_FILE, 'w') as f:\n",
    "            f.write(credentials.to_json())\n",
    "        \n",
    "        print(f\"✅ Success! Tokens saved to {TOKEN_FILE}\")\n",
    "        return credentials\n",
    "        \n",
    "    except Exception as e:\n",
    "        print(f\"❌ Error: {e}\")\n",
    "        print(\"\\n🚨 FIX REQUIRED:\")\n",
    "        print(\"Add this EXACT redirect URI to your Google Cloud Console:\")\n",
    "        print(\"   http://localhost:3000/\")\n",
    "        print(\"   ☝️ NOTICE THE TRAILING SLASH!\")\n",
    "        print()\n",
    "        print(\"Steps:\")\n",
    "        print(\"1. Go to Google Cloud Console → APIs & Services → Credentials\")\n",
    "        print(\"2. Click your OAuth 2.0 Client ID\")\n",
    "        print(\"3. Add URI: http://localhost:3000/\")\n",
    "        print(\"4. Save and try again\")\n",
    "        return None\n",
    "\n",
    "# Run authentication\n",
    "credentials = authenticate()\n"
   ]
  },
  {
   "cell_type": "markdown",
   "metadata": {},
   "source": [
    "## ✅ Done!\n",
    "\n",
    "If successful, you now have:\n",
    "- `google_tokens.json` - Your saved authentication tokens\n",
    "\n",
    "**Next step**: Open `google_calendar_operations.ipynb` for calendar functions\n",
    "\n",
    "**Security**: Add `google_tokens.json` and `.env` to your `.gitignore`\n"
   ]
  }
 ],
 "metadata": {
  "kernelspec": {
   "display_name": "Python 3 (ipykernel)",
   "language": "python",
   "name": "python3"
  },
  "language_info": {
   "codemirror_mode": {
    "name": "ipython",
    "version": 3
   },
   "file_extension": ".py",
   "mimetype": "text/x-python",
   "name": "python",
   "nbconvert_exporter": "python",
   "pygments_lexer": "ipython3",
   "version": "3.10.9"
  }
 },
 "nbformat": 4,
 "nbformat_minor": 2
}
