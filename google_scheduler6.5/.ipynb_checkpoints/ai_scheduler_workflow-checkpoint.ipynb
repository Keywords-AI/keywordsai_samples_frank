{
 "cells": [
  {
   "cell_type": "markdown",
   "metadata": {
    "vscode": {
     "languageId": "plaintext"
    }
   },
   "source": [
    "# 🚀 AI Scheduler Workflow\n",
    "\n",
    "This notebook follows a simple 3-step process:\n",
    "\n",
    "1. **User Input** - Define what the user wants to schedule\n",
    "2. **Keywords AI Call** - Parse the request using AI (prompt ID: 01ce06)  \n",
    "3. **Calendar Availability** - Check Google Calendar for available slots\n",
    "\n",
    "Let's get started!\n"
   ]
  },
  {
   "cell_type": "markdown",
   "metadata": {
    "vscode": {
     "languageId": "plaintext"
    }
   },
   "source": [
    "## Step 1: Setup & User Input\n",
    "\n",
    "First, we'll import the necessary libraries and set up our user input string.\n"
   ]
  },
  {
   "cell_type": "code",
   "execution_count": 1,
   "metadata": {},
   "outputs": [
    {
     "name": "stdout",
     "output_type": "stream",
     "text": [
      "✅ Setup complete!\n",
      "💬 User input: 'Schedule a design review meeting tomorrow at 2pm for 1 hour'\n",
      "🔑 API key loaded: iEolcm0o...e3B9\n"
     ]
    }
   ],
   "source": [
    "import requests\n",
    "import json\n",
    "import os\n",
    "from datetime import datetime, timedelta, date\n",
    "\n",
    "# Load API key from .env file\n",
    "try:\n",
    "    from dotenv import load_dotenv\n",
    "    load_dotenv()\n",
    "except ImportError:\n",
    "    print(\"Installing python-dotenv...\")\n",
    "    import subprocess\n",
    "    subprocess.check_call([\"pip\", \"install\", \"python-dotenv\"])\n",
    "    from dotenv import load_dotenv\n",
    "    load_dotenv()\n",
    "\n",
    "# Get Keywords AI API key from .env\n",
    "KEYWORDS_AI_API_KEY = os.getenv('KEYWORDSAI_API_KEY')\n",
    "\n",
    "# Define the user input string\n",
    "user_input = \"Schedule a design review meeting tomorrow at 2pm for 1 hour\"\n",
    "\n",
    "print(\"✅ Setup complete!\")\n",
    "print(f\"💬 User input: '{user_input}'\")\n",
    "print(f\"🔑 API key loaded: {KEYWORDS_AI_API_KEY[:8]}...{KEYWORDS_AI_API_KEY[-4:]}\")\n"
   ]
  },
  {
   "cell_type": "markdown",
   "metadata": {},
   "source": [
    "## Step 2: Keywords AI LLM Call\n",
    "\n",
    "Now we'll call Keywords AI using prompt ID \"01ce06\" to parse the user's natural language request into structured data. \n",
    "\n",
    "The prompt includes context variables:\n",
    "- `current_date` - Today's date\n",
    "- `current_time` - Current time  \n",
    "- `time_zone` - User's timezone\n",
    "- `user_request` - The input string we want to parse\n"
   ]
  },
  {
   "cell_type": "code",
   "execution_count": 2,
   "metadata": {},
   "outputs": [
    {
     "name": "stdout",
     "output_type": "stream",
     "text": [
      "📅 Current context:\n",
      "   Date: 2025-07-01\n",
      "   Time: 19:22\n",
      "   Timezone: Pacific Daylight Time\n",
      "\n",
      "🤖 Calling Keywords AI...\n",
      "❌ API Error: 400 - {\"error\":{\"code\":\"keywordsai_error\",\"message\":\"Prompt is invalid. Here is the validation error: Type checking error: [{'type': 'dict_type', 'loc': ('response_format',), 'msg': 'Input should be a valid dictionary', 'input': 'json_object', 'url': 'https://errors.pydantic.dev/2.10/v/dict_type'}]\",\"param\":null,\"type\":\"keywordsai_error\"}}\n"
     ]
    }
   ],
   "source": [
    "# Get current date/time context\n",
    "now = datetime.now()\n",
    "current_date = now.strftime(\"%Y-%m-%d\")\n",
    "current_time = now.strftime(\"%H:%M\")\n",
    "time_zone = str(now.astimezone().tzinfo)\n",
    "\n",
    "print(f\"📅 Current context:\")\n",
    "print(f\"   Date: {current_date}\")\n",
    "print(f\"   Time: {current_time}\")\n",
    "print(f\"   Timezone: {time_zone}\")\n",
    "\n",
    "# Keywords AI API call\n",
    "url = \"https://api.keywordsai.co/api/chat/completions\"\n",
    "\n",
    "headers = {\n",
    "    'Content-Type': 'application/json',\n",
    "    'Authorization': f'Bearer {KEYWORDS_AI_API_KEY}',\n",
    "}\n",
    "\n",
    "# Use prompt ID 01ce06 with variables\n",
    "data = {\n",
    "    'prompt': {\n",
    "        'prompt_id': '01ce0624c0d548079d2a577a3abf102c',\n",
    "        'variables': {\n",
    "            'current_date': current_date,\n",
    "            'current_time': current_time,\n",
    "            'time_zone': time_zone,\n",
    "            'user_request': user_input\n",
    "        }\n",
    "    }\n",
    "}\n",
    "\n",
    "print(\"\\n🤖 Calling Keywords AI...\")\n",
    "response = requests.post(url, headers=headers, json=data)\n",
    "\n",
    "if response.status_code == 200:\n",
    "    result = response.json()\n",
    "    ai_response = result['choices'][0]['message']['content']\n",
    "    print(\"✅ AI Response received!\")\n",
    "    print(f\"📋 Raw response: {ai_response}\")\n",
    "    \n",
    "    # Parse the JSON response\n",
    "    try:\n",
    "        schedule_data = json.loads(ai_response)\n",
    "        print(\"\\n✅ Parsed scheduling data:\")\n",
    "        for key, value in schedule_data.items():\n",
    "            print(f\"   {key}: {value}\")\n",
    "    except json.JSONDecodeError as e:\n",
    "        print(f\"❌ Error parsing JSON: {e}\")\n",
    "        schedule_data = None\n",
    "else:\n",
    "    print(f\"❌ API Error: {response.status_code} - {response.text}\")\n",
    "    schedule_data = None\n"
   ]
  },
  {
   "cell_type": "markdown",
   "metadata": {},
   "source": [
    "## Step 3: Check Calendar Availability\n",
    "\n",
    "Now we'll use the parsed scheduling data to check Google Calendar for available time slots on the requested date. We'll use the tokens from `google_tokens.json` that were created in the auth setup.\n"
   ]
  },
  {
   "cell_type": "code",
   "execution_count": 13,
   "metadata": {},
   "outputs": [
    {
     "name": "stdout",
     "output_type": "stream",
     "text": [
      "🔑 Loading Google Calendar credentials...\n",
      "✅ Google Calendar service created!\n"
     ]
    }
   ],
   "source": [
    "# Import Google Calendar libraries\n",
    "from google.auth.transport.requests import Request\n",
    "from google.oauth2.credentials import Credentials\n",
    "from googleapiclient.discovery import build\n",
    "\n",
    "# Load Google Calendar credentials\n",
    "TOKEN_FILE = 'google_tokens.json'\n",
    "\n",
    "print(\"🔑 Loading Google Calendar credentials...\")\n",
    "if os.path.exists(TOKEN_FILE):\n",
    "    credentials = Credentials.from_authorized_user_file(TOKEN_FILE)\n",
    "    \n",
    "    # Refresh tokens if expired\n",
    "    if credentials.expired and credentials.refresh_token:\n",
    "        print(\"🔄 Refreshing expired tokens...\")\n",
    "        credentials.refresh(Request())\n",
    "        with open(TOKEN_FILE, 'w') as token:\n",
    "            token.write(credentials.to_json())\n",
    "    \n",
    "    # Create Calendar service\n",
    "    calendar_service = build('calendar', 'v3', credentials=credentials)\n",
    "    print(\"✅ Google Calendar service created!\")\n",
    "else:\n",
    "    print(\"❌ google_tokens.json not found! Please run google_auth_setup.ipynb first.\")\n",
    "    calendar_service = None\n"
   ]
  },
  {
   "cell_type": "code",
   "execution_count": 14,
   "metadata": {},
   "outputs": [
    {
     "name": "stdout",
     "output_type": "stream",
     "text": [
      "📅 Checking calendar availability...\n",
      "🎯 Target date: 2025-07-02\n",
      "⏱️  Duration: 60 minutes\n",
      "📝 Title: Design Review Meeting\n",
      "\n",
      "🔍 Checking 2025-07-02 from 9:00 to 17:00...\n",
      "📋 Found 0 existing events on this day\n",
      "\n",
      "🕐 Finding available 60-minute slots...\n",
      "\n",
      "✅ AVAILABLE TIME SLOTS:\n",
      "🎉 Found 8 available slots:\n",
      "   ✅ 09:00 AM\n",
      "   ✅ 10:00 AM\n",
      "   ✅ 11:00 AM\n",
      "   ✅ 12:00 PM\n",
      "   ✅ 01:00 PM\n",
      "   ✅ 02:00 PM\n",
      "   ✅ 03:00 PM\n",
      "   ✅ 04:00 PM\n",
      "\n",
      "🏁 Workflow complete!\n"
     ]
    }
   ],
   "source": [
    "# Check calendar availability using the AI-parsed data\n",
    "if schedule_data and calendar_service and schedule_data.get('hasScheduleRequest'):\n",
    "    \n",
    "    print(\"📅 Checking calendar availability...\")\n",
    "    \n",
    "    # Extract data from AI response\n",
    "    target_date_str = schedule_data.get('date')\n",
    "    duration_minutes = schedule_data.get('duration', 60)\n",
    "    title = schedule_data.get('title', 'Meeting')\n",
    "    \n",
    "    print(f\"🎯 Target date: {target_date_str}\")\n",
    "    print(f\"⏱️  Duration: {duration_minutes} minutes\")\n",
    "    print(f\"📝 Title: {title}\")\n",
    "    \n",
    "    # Convert date string to datetime object\n",
    "    target_date = datetime.strptime(target_date_str, '%Y-%m-%d').date()\n",
    "    \n",
    "    # Set work hours (9 AM to 5 PM)\n",
    "    work_start = 9\n",
    "    work_end = 17\n",
    "    duration_hours = duration_minutes / 60\n",
    "    \n",
    "    # Get events for the target date\n",
    "    start_datetime = datetime.combine(target_date, datetime.min.time().replace(hour=work_start))\n",
    "    end_datetime = datetime.combine(target_date, datetime.min.time().replace(hour=work_end))\n",
    "    \n",
    "    print(f\"\\n🔍 Checking {target_date} from {work_start}:00 to {work_end}:00...\")\n",
    "    \n",
    "    # Query Google Calendar for existing events\n",
    "    events_result = calendar_service.events().list(\n",
    "        calendarId='primary',\n",
    "        timeMin=start_datetime.isoformat() + 'Z',\n",
    "        timeMax=end_datetime.isoformat() + 'Z',\n",
    "        singleEvents=True,\n",
    "        orderBy='startTime'\n",
    "    ).execute()\n",
    "    \n",
    "    events = events_result.get('items', [])\n",
    "    print(f\"📋 Found {len(events)} existing events on this day\")\n",
    "    \n",
    "    # Show existing events\n",
    "    if events:\n",
    "        print(\"🚫 Busy times:\")\n",
    "        for event in events:\n",
    "            start = event['start'].get('dateTime', event['start'].get('date'))\n",
    "            summary = event.get('summary', 'No title')\n",
    "            print(f\"   • {summary} at {start}\")\n",
    "    \n",
    "    # Find available slots\n",
    "    print(f\"\\n🕐 Finding available {duration_minutes}-minute slots...\")\n",
    "    \n",
    "    # Extract busy times\n",
    "    busy_times = []\n",
    "    for event in events:\n",
    "        event_start = event['start'].get('dateTime')\n",
    "        event_end = event['end'].get('dateTime')\n",
    "        if event_start and event_end:\n",
    "            start = datetime.fromisoformat(event_start.replace('Z', '+00:00')).replace(tzinfo=None)\n",
    "            end = datetime.fromisoformat(event_end.replace('Z', '+00:00')).replace(tzinfo=None)\n",
    "            busy_times.append((start, end))\n",
    "    \n",
    "    # Check every 30 minutes for availability\n",
    "    available_slots = []\n",
    "    current_time = start_datetime\n",
    "    \n",
    "    while current_time + timedelta(hours=duration_hours) <= end_datetime:\n",
    "        slot_end = current_time + timedelta(hours=duration_hours)\n",
    "        \n",
    "        # Check if this slot conflicts with any busy time\n",
    "        is_available = True\n",
    "        for busy_start, busy_end in busy_times:\n",
    "            if (current_time < busy_end and slot_end > busy_start):\n",
    "                is_available = False\n",
    "                break\n",
    "        \n",
    "        if is_available:\n",
    "            available_slots.append(current_time)\n",
    "        \n",
    "        # Move to next 30-minute slot\n",
    "        current_time += timedelta(minutes=30)\n",
    "    \n",
    "    # Display results\n",
    "    print(f\"\\n✅ AVAILABLE TIME SLOTS:\")\n",
    "    if available_slots:\n",
    "        print(f\"🎉 Found {len(available_slots)} available slots:\")\n",
    "        for slot in available_slots:\n",
    "            print(f\"   ✅ {slot.strftime('%I:%M %p')}\")\n",
    "    else:\n",
    "        print(\"❌ No available slots found for the requested duration\")\n",
    "        \n",
    "elif not schedule_data:\n",
    "    print(\"❌ No schedule data from AI to process\")\n",
    "elif not calendar_service:\n",
    "    print(\"❌ Google Calendar service not available\")\n",
    "elif not schedule_data.get('hasScheduleRequest'):\n",
    "    print(\"ℹ️  AI determined this is not a scheduling request\")\n",
    "\n",
    "print(\"\\n🏁 Workflow complete!\")\n"
   ]
  },
  {
   "cell_type": "code",
   "execution_count": null,
   "metadata": {},
   "outputs": [],
   "source": [
    "## ✅ Workflow Summary\n",
    "\n",
    "**What we accomplished:**\n",
    "\n",
    "1. **User Input**: Defined a natural language scheduling request\n",
    "2. **AI Parsing**: Used Keywords AI (prompt 01ce06) to extract structured data including:\n",
    "   - Whether it's a valid scheduling request\n",
    "   - Target date in YYYY-MM-DD format\n",
    "   - Meeting duration in minutes\n",
    "   - Title and description\n",
    "3. **Calendar Check**: Used Google Calendar API to find available time slots\n",
    "\n",
    "**Next Steps**: You can now use the `available_slots` data to:\n",
    "- Show options to the user\n",
    "- Automatically book the best available time\n",
    "- Send calendar invites\n",
    "- Handle conflicts and alternatives\n",
    "\n",
    "To test with different user inputs, just change the `user_input` variable in Step 1 and re-run all cells!\n"
   ]
  }
 ],
 "metadata": {
  "kernelspec": {
   "display_name": "Python 3 (ipykernel)",
   "language": "python",
   "name": "python3"
  },
  "language_info": {
   "codemirror_mode": {
    "name": "ipython",
    "version": 3
   },
   "file_extension": ".py",
   "mimetype": "text/x-python",
   "name": "python",
   "nbconvert_exporter": "python",
   "pygments_lexer": "ipython3",
   "version": "3.10.9"
  }
 },
 "nbformat": 4,
 "nbformat_minor": 2
}
